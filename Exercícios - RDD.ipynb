{
 "cells": [
  {
   "cell_type": "markdown",
   "metadata": {},
   "source": [
    "1. Ler com RDD os arquivos localmente do diretório “/opt/spark/logs/” (\"file:///opt/spark/logs/\")"
   ]
  },
  {
   "cell_type": "code",
   "execution_count": 1,
   "metadata": {},
   "outputs": [],
   "source": [
    "log =sc.textFile(\"file:///opt/spark/logs/\")"
   ]
  },
  {
   "cell_type": "code",
   "execution_count": 7,
   "metadata": {
    "collapsed": true
   },
   "outputs": [
    {
     "name": "stdout",
     "output_type": "stream",
     "text": [
      "Spark Command: /opt/java/bin/java -cp /etc/spark/:/opt/spark/jars/*:/etc/hadoop/:/etc/hadoop/*:/opt/hadoop/share/hadoop/common/lib/*:/opt/hadoop/share/hadoop/common/*:/opt/hadoop/share/hadoop/hdfs/*:/opt/hadoop/share/hadoop/hdfs/lib/*:/opt/hadoop/share/hadoop/yarn/lib/*:/opt/hadoop/share/hadoop/yarn/*:/opt/hadoop/share/hadoop/mapreduce/lib/*:/opt/hadoop/share/hadoop/mapreduce/*:/opt/hadoop/share/hadoop/tools/lib/* -Xmx1g org.apache.spark.deploy.master.Master --host localhost --port 7077 --webui-port 8080\r\n",
      "========================================\r\n",
      "20/03/18 20:31:09 INFO master.Master: Started daemon with process name: 1087@jupyter-notebook\r\n",
      "20/03/18 20:31:09 INFO util.SignalUtils: Registered signal handler for TERM\r\n",
      "20/03/18 20:31:09 INFO util.SignalUtils: Registered signal handler for HUP\r\n",
      "20/03/18 20:31:09 INFO util.SignalUtils: Registered signal handler for INT\r\n",
      "20/03/18 20:31:10 INFO spark.SecurityManager: Changing view acls to: root\r\n",
      "20/03/18 20:31:10 INFO spark.SecurityManager: Changing modify acls to: root\r\n",
      "20/03/18 20:31:10 INFO spark.SecurityManager: Changing view acls groups to: \r\n",
      "20/03/18 20:31:10 INFO spark.SecurityManager: Changing modify acls groups to: \r\n",
      "20/03/18 20:31:10 INFO spark.SecurityManager: SecurityManager: authentication disabled; ui acls disabled; users  with view permissions: Set(root); groups with view permissions: Set(); users  with modify permissions: Set(root); groups with modify permissions: Set()\r\n",
      "20/03/18 20:31:10 INFO util.Utils: Successfully started service 'sparkMaster' on port 7077.\r\n",
      "20/03/18 20:31:10 INFO master.Master: Starting Spark master at spark://localhost:7077\r\n",
      "20/03/18 20:31:10 INFO master.Master: Running Spark version 2.4.1\r\n",
      "20/03/18 20:31:10 INFO util.log: Logging initialized @1454ms\r\n",
      "20/03/18 20:31:10 INFO server.Server: jetty-9.3.z-SNAPSHOT, build timestamp: unknown, git hash: unknown\r\n",
      "20/03/18 20:31:10 INFO server.Server: Started @1504ms\r\n",
      "20/03/18 20:31:10 INFO server.AbstractConnector: Started ServerConnector@5526ec85{HTTP/1.1,[http/1.1]}{0.0.0.0:8080}\r\n",
      "20/03/18 20:31:10 INFO util.Utils: Successfully started service 'MasterUI' on port 8080.\r\n",
      "20/03/18 20:31:10 INFO handler.ContextHandler: Started o.s.j.s.ServletContextHandler@78c62b96{/app,null,AVAILABLE,@Spark}\r\n",
      "20/03/18 20:31:10 INFO handler.ContextHandler: Started o.s.j.s.ServletContextHandler@1330e23c{/app/json,null,AVAILABLE,@Spark}\r\n",
      "20/03/18 20:31:10 INFO handler.ContextHandler: Started o.s.j.s.ServletContextHandler@3f7fb168{/,null,AVAILABLE,@Spark}\r\n",
      "20/03/18 20:31:10 INFO handler.ContextHandler: Started o.s.j.s.ServletContextHandler@50e5c33c{/json,null,AVAILABLE,@Spark}\r\n",
      "20/03/18 20:31:10 INFO handler.ContextHandler: Started o.s.j.s.ServletContextHandler@44d0ea1e{/static,null,AVAILABLE,@Spark}\r\n",
      "20/03/18 20:31:10 INFO handler.ContextHandler: Started o.s.j.s.ServletContextHandler@2a362185{/app/kill,null,AVAILABLE,@Spark}\r\n",
      "20/03/18 20:31:10 INFO handler.ContextHandler: Started o.s.j.s.ServletContextHandler@222db61{/driver/kill,null,AVAILABLE,@Spark}\r\n",
      "20/03/18 20:31:10 INFO ui.MasterWebUI: Bound MasterWebUI to 0.0.0.0, and started at http://jupyter-notebook:8080\r\n",
      "20/03/18 20:31:10 INFO handler.ContextHandler: Started o.s.j.s.ServletContextHandler@58cb287e{/metrics/master/json,null,AVAILABLE,@Spark}\r\n",
      "20/03/18 20:31:10 INFO handler.ContextHandler: Started o.s.j.s.ServletContextHandler@3d2d7a89{/metrics/applications/json,null,AVAILABLE,@Spark}\r\n",
      "20/03/18 20:31:10 INFO master.Master: I have been elected leader! New state: ALIVE\r\n"
     ]
    }
   ],
   "source": [
    "!cat /opt/spark/logs/spark--org.apache.spark.deploy.master.Master-1-jupyter-notebook.out"
   ]
  },
  {
   "cell_type": "markdown",
   "metadata": {},
   "source": [
    "2. Com uso de RDD faça as seguintes operações"
   ]
  },
  {
   "cell_type": "code",
   "execution_count": 2,
   "metadata": {},
   "outputs": [
    {
     "data": {
      "text/plain": [
       "30"
      ]
     },
     "execution_count": 2,
     "metadata": {},
     "output_type": "execute_result"
    }
   ],
   "source": [
    "#a) Contar a quantidade de linhas\n",
    "log.count()"
   ]
  },
  {
   "cell_type": "code",
   "execution_count": 3,
   "metadata": {},
   "outputs": [
    {
     "data": {
      "text/plain": [
       "'Spark Command: /opt/java/bin/java -cp /etc/spark/:/opt/spark/jars/*:/etc/hadoop/:/etc/hadoop/*:/opt/hadoop/share/hadoop/common/lib/*:/opt/hadoop/share/hadoop/common/*:/opt/hadoop/share/hadoop/hdfs/*:/opt/hadoop/share/hadoop/hdfs/lib/*:/opt/hadoop/share/hadoop/yarn/lib/*:/opt/hadoop/share/hadoop/yarn/*:/opt/hadoop/share/hadoop/mapreduce/lib/*:/opt/hadoop/share/hadoop/mapreduce/*:/opt/hadoop/share/hadoop/tools/lib/* -Xmx1g org.apache.spark.deploy.master.Master --host localhost --port 7077 --webui-port 8080'"
      ]
     },
     "execution_count": 3,
     "metadata": {},
     "output_type": "execute_result"
    }
   ],
   "source": [
    "#b) Visualizar a primeira linha\n",
    "log.first()"
   ]
  },
  {
   "cell_type": "code",
   "execution_count": 12,
   "metadata": {
    "scrolled": true
   },
   "outputs": [
    {
     "data": {
      "text/plain": [
       "['Spark Command: /opt/java/bin/java -cp /etc/spark/:/opt/spark/jars/*:/etc/hadoop/:/etc/hadoop/*:/opt/hadoop/share/hadoop/common/lib/*:/opt/hadoop/share/hadoop/common/*:/opt/hadoop/share/hadoop/hdfs/*:/opt/hadoop/share/hadoop/hdfs/lib/*:/opt/hadoop/share/hadoop/yarn/lib/*:/opt/hadoop/share/hadoop/yarn/*:/opt/hadoop/share/hadoop/mapreduce/lib/*:/opt/hadoop/share/hadoop/mapreduce/*:/opt/hadoop/share/hadoop/tools/lib/* -Xmx1g org.apache.spark.deploy.master.Master --host localhost --port 7077 --webui-port 8080',\n",
       " '========================================',\n",
       " '20/03/18 20:31:09 INFO master.Master: Started daemon with process name: 1087@jupyter-notebook',\n",
       " '20/03/18 20:31:09 INFO util.SignalUtils: Registered signal handler for TERM',\n",
       " '20/03/18 20:31:09 INFO util.SignalUtils: Registered signal handler for HUP',\n",
       " '20/03/18 20:31:09 INFO util.SignalUtils: Registered signal handler for INT',\n",
       " '20/03/18 20:31:10 INFO spark.SecurityManager: Changing view acls to: root',\n",
       " '20/03/18 20:31:10 INFO spark.SecurityManager: Changing modify acls to: root',\n",
       " '20/03/18 20:31:10 INFO spark.SecurityManager: Changing view acls groups to: ',\n",
       " '20/03/18 20:31:10 INFO spark.SecurityManager: Changing modify acls groups to: ',\n",
       " '20/03/18 20:31:10 INFO spark.SecurityManager: SecurityManager: authentication disabled; ui acls disabled; users  with view permissions: Set(root); groups with view permissions: Set(); users  with modify permissions: Set(root); groups with modify permissions: Set()',\n",
       " \"20/03/18 20:31:10 INFO util.Utils: Successfully started service 'sparkMaster' on port 7077.\",\n",
       " '20/03/18 20:31:10 INFO master.Master: Starting Spark master at spark://localhost:7077',\n",
       " '20/03/18 20:31:10 INFO master.Master: Running Spark version 2.4.1',\n",
       " '20/03/18 20:31:10 INFO util.log: Logging initialized @1454ms',\n",
       " '20/03/18 20:31:10 INFO server.Server: jetty-9.3.z-SNAPSHOT, build timestamp: unknown, git hash: unknown',\n",
       " '20/03/18 20:31:10 INFO server.Server: Started @1504ms',\n",
       " '20/03/18 20:31:10 INFO server.AbstractConnector: Started ServerConnector@5526ec85{HTTP/1.1,[http/1.1]}{0.0.0.0:8080}',\n",
       " \"20/03/18 20:31:10 INFO util.Utils: Successfully started service 'MasterUI' on port 8080.\",\n",
       " '20/03/18 20:31:10 INFO handler.ContextHandler: Started o.s.j.s.ServletContextHandler@78c62b96{/app,null,AVAILABLE,@Spark}',\n",
       " '20/03/18 20:31:10 INFO handler.ContextHandler: Started o.s.j.s.ServletContextHandler@1330e23c{/app/json,null,AVAILABLE,@Spark}',\n",
       " '20/03/18 20:31:10 INFO handler.ContextHandler: Started o.s.j.s.ServletContextHandler@3f7fb168{/,null,AVAILABLE,@Spark}',\n",
       " '20/03/18 20:31:10 INFO handler.ContextHandler: Started o.s.j.s.ServletContextHandler@50e5c33c{/json,null,AVAILABLE,@Spark}',\n",
       " '20/03/18 20:31:10 INFO handler.ContextHandler: Started o.s.j.s.ServletContextHandler@44d0ea1e{/static,null,AVAILABLE,@Spark}',\n",
       " '20/03/18 20:31:10 INFO handler.ContextHandler: Started o.s.j.s.ServletContextHandler@2a362185{/app/kill,null,AVAILABLE,@Spark}',\n",
       " '20/03/18 20:31:10 INFO handler.ContextHandler: Started o.s.j.s.ServletContextHandler@222db61{/driver/kill,null,AVAILABLE,@Spark}',\n",
       " '20/03/18 20:31:10 INFO ui.MasterWebUI: Bound MasterWebUI to 0.0.0.0, and started at http://jupyter-notebook:8080',\n",
       " '20/03/18 20:31:10 INFO handler.ContextHandler: Started o.s.j.s.ServletContextHandler@58cb287e{/metrics/master/json,null,AVAILABLE,@Spark}',\n",
       " '20/03/18 20:31:10 INFO handler.ContextHandler: Started o.s.j.s.ServletContextHandler@3d2d7a89{/metrics/applications/json,null,AVAILABLE,@Spark}',\n",
       " '20/03/18 20:31:10 INFO master.Master: I have been elected leader! New state: ALIVE']"
      ]
     },
     "execution_count": 12,
     "metadata": {},
     "output_type": "execute_result"
    }
   ],
   "source": [
    "#c) Visualizar todas as linhas\n",
    "log.take(30)"
   ]
  },
  {
   "cell_type": "code",
   "execution_count": 4,
   "metadata": {},
   "outputs": [
    {
     "data": {
      "text/plain": [
       "268"
      ]
     },
     "execution_count": 4,
     "metadata": {},
     "output_type": "execute_result"
    }
   ],
   "source": [
    "#d) Contar a quantidade de palavras\n",
    "palavras = log.flatMap(lambda x: x.split(\" \"))\n",
    "palavras.count()"
   ]
  },
  {
   "cell_type": "code",
   "execution_count": 5,
   "metadata": {},
   "outputs": [],
   "source": [
    "#e) Converter todas as palavras em minúsculas\n",
    "min = palavras.map(lambda linha:linha.lower())"
   ]
  },
  {
   "cell_type": "code",
   "execution_count": 19,
   "metadata": {
    "collapsed": true
   },
   "outputs": [
    {
     "data": {
      "text/plain": [
       "['spark',\n",
       " 'command:',\n",
       " '/opt/java/bin/java',\n",
       " '-cp',\n",
       " '/etc/spark/:/opt/spark/jars/*:/etc/hadoop/:/etc/hadoop/*:/opt/hadoop/share/hadoop/common/lib/*:/opt/hadoop/share/hadoop/common/*:/opt/hadoop/share/hadoop/hdfs/*:/opt/hadoop/share/hadoop/hdfs/lib/*:/opt/hadoop/share/hadoop/yarn/lib/*:/opt/hadoop/share/hadoop/yarn/*:/opt/hadoop/share/hadoop/mapreduce/lib/*:/opt/hadoop/share/hadoop/mapreduce/*:/opt/hadoop/share/hadoop/tools/lib/*',\n",
       " '-xmx1g',\n",
       " 'org.apache.spark.deploy.master.master',\n",
       " '--host',\n",
       " 'localhost',\n",
       " '--port',\n",
       " '7077',\n",
       " '--webui-port',\n",
       " '8080',\n",
       " '========================================',\n",
       " '20/03/18',\n",
       " '20:31:09',\n",
       " 'info',\n",
       " 'master.master:',\n",
       " 'started',\n",
       " 'daemon',\n",
       " 'with',\n",
       " 'process',\n",
       " 'name:',\n",
       " '1087@jupyter-notebook',\n",
       " '20/03/18',\n",
       " '20:31:09',\n",
       " 'info',\n",
       " 'util.signalutils:',\n",
       " 'registered',\n",
       " 'signal',\n",
       " 'handler',\n",
       " 'for',\n",
       " 'term',\n",
       " '20/03/18',\n",
       " '20:31:09',\n",
       " 'info',\n",
       " 'util.signalutils:',\n",
       " 'registered',\n",
       " 'signal',\n",
       " 'handler',\n",
       " 'for',\n",
       " 'hup',\n",
       " '20/03/18',\n",
       " '20:31:09',\n",
       " 'info',\n",
       " 'util.signalutils:',\n",
       " 'registered',\n",
       " 'signal',\n",
       " 'handler',\n",
       " 'for',\n",
       " 'int',\n",
       " '20/03/18',\n",
       " '20:31:10',\n",
       " 'info',\n",
       " 'spark.securitymanager:',\n",
       " 'changing',\n",
       " 'view',\n",
       " 'acls',\n",
       " 'to:',\n",
       " 'root',\n",
       " '20/03/18',\n",
       " '20:31:10',\n",
       " 'info',\n",
       " 'spark.securitymanager:',\n",
       " 'changing',\n",
       " 'modify',\n",
       " 'acls',\n",
       " 'to:',\n",
       " 'root',\n",
       " '20/03/18',\n",
       " '20:31:10',\n",
       " 'info',\n",
       " 'spark.securitymanager:',\n",
       " 'changing',\n",
       " 'view',\n",
       " 'acls',\n",
       " 'groups',\n",
       " 'to:',\n",
       " '',\n",
       " '20/03/18',\n",
       " '20:31:10',\n",
       " 'info',\n",
       " 'spark.securitymanager:',\n",
       " 'changing',\n",
       " 'modify',\n",
       " 'acls',\n",
       " 'groups',\n",
       " 'to:',\n",
       " '',\n",
       " '20/03/18',\n",
       " '20:31:10',\n",
       " 'info',\n",
       " 'spark.securitymanager:',\n",
       " 'securitymanager:',\n",
       " 'authentication',\n",
       " 'disabled;',\n",
       " 'ui',\n",
       " 'acls',\n",
       " 'disabled;',\n",
       " 'users',\n",
       " '',\n",
       " 'with',\n",
       " 'view',\n",
       " 'permissions:',\n",
       " 'set(root);',\n",
       " 'groups',\n",
       " 'with',\n",
       " 'view',\n",
       " 'permissions:',\n",
       " 'set();',\n",
       " 'users',\n",
       " '',\n",
       " 'with',\n",
       " 'modify',\n",
       " 'permissions:',\n",
       " 'set(root);',\n",
       " 'groups',\n",
       " 'with',\n",
       " 'modify',\n",
       " 'permissions:',\n",
       " 'set()',\n",
       " '20/03/18',\n",
       " '20:31:10',\n",
       " 'info',\n",
       " 'util.utils:',\n",
       " 'successfully',\n",
       " 'started',\n",
       " 'service',\n",
       " \"'sparkmaster'\",\n",
       " 'on',\n",
       " 'port',\n",
       " '7077.',\n",
       " '20/03/18',\n",
       " '20:31:10',\n",
       " 'info',\n",
       " 'master.master:',\n",
       " 'starting',\n",
       " 'spark',\n",
       " 'master',\n",
       " 'at',\n",
       " 'spark://localhost:7077',\n",
       " '20/03/18',\n",
       " '20:31:10',\n",
       " 'info',\n",
       " 'master.master:',\n",
       " 'running',\n",
       " 'spark',\n",
       " 'version',\n",
       " '2.4.1',\n",
       " '20/03/18',\n",
       " '20:31:10',\n",
       " 'info',\n",
       " 'util.log:',\n",
       " 'logging',\n",
       " 'initialized',\n",
       " '@1454ms',\n",
       " '20/03/18',\n",
       " '20:31:10',\n",
       " 'info',\n",
       " 'server.server:',\n",
       " 'jetty-9.3.z-snapshot,',\n",
       " 'build',\n",
       " 'timestamp:',\n",
       " 'unknown,',\n",
       " 'git',\n",
       " 'hash:',\n",
       " 'unknown',\n",
       " '20/03/18',\n",
       " '20:31:10',\n",
       " 'info',\n",
       " 'server.server:',\n",
       " 'started',\n",
       " '@1504ms',\n",
       " '20/03/18',\n",
       " '20:31:10',\n",
       " 'info',\n",
       " 'server.abstractconnector:',\n",
       " 'started',\n",
       " 'serverconnector@5526ec85{http/1.1,[http/1.1]}{0.0.0.0:8080}',\n",
       " '20/03/18',\n",
       " '20:31:10',\n",
       " 'info',\n",
       " 'util.utils:',\n",
       " 'successfully',\n",
       " 'started',\n",
       " 'service',\n",
       " \"'masterui'\",\n",
       " 'on',\n",
       " 'port',\n",
       " '8080.',\n",
       " '20/03/18',\n",
       " '20:31:10',\n",
       " 'info',\n",
       " 'handler.contexthandler:',\n",
       " 'started',\n",
       " 'o.s.j.s.servletcontexthandler@78c62b96{/app,null,available,@spark}',\n",
       " '20/03/18',\n",
       " '20:31:10',\n",
       " 'info',\n",
       " 'handler.contexthandler:',\n",
       " 'started',\n",
       " 'o.s.j.s.servletcontexthandler@1330e23c{/app/json,null,available,@spark}',\n",
       " '20/03/18',\n",
       " '20:31:10',\n",
       " 'info',\n",
       " 'handler.contexthandler:',\n",
       " 'started',\n",
       " 'o.s.j.s.servletcontexthandler@3f7fb168{/,null,available,@spark}',\n",
       " '20/03/18',\n",
       " '20:31:10',\n",
       " 'info',\n",
       " 'handler.contexthandler:',\n",
       " 'started',\n",
       " 'o.s.j.s.servletcontexthandler@50e5c33c{/json,null,available,@spark}',\n",
       " '20/03/18',\n",
       " '20:31:10',\n",
       " 'info',\n",
       " 'handler.contexthandler:',\n",
       " 'started',\n",
       " 'o.s.j.s.servletcontexthandler@44d0ea1e{/static,null,available,@spark}',\n",
       " '20/03/18',\n",
       " '20:31:10',\n",
       " 'info',\n",
       " 'handler.contexthandler:',\n",
       " 'started',\n",
       " 'o.s.j.s.servletcontexthandler@2a362185{/app/kill,null,available,@spark}',\n",
       " '20/03/18',\n",
       " '20:31:10',\n",
       " 'info',\n",
       " 'handler.contexthandler:',\n",
       " 'started',\n",
       " 'o.s.j.s.servletcontexthandler@222db61{/driver/kill,null,available,@spark}',\n",
       " '20/03/18',\n",
       " '20:31:10',\n",
       " 'info',\n",
       " 'ui.masterwebui:',\n",
       " 'bound',\n",
       " 'masterwebui',\n",
       " 'to',\n",
       " '0.0.0.0,',\n",
       " 'and',\n",
       " 'started',\n",
       " 'at',\n",
       " 'http://jupyter-notebook:8080',\n",
       " '20/03/18',\n",
       " '20:31:10',\n",
       " 'info',\n",
       " 'handler.contexthandler:',\n",
       " 'started',\n",
       " 'o.s.j.s.servletcontexthandler@58cb287e{/metrics/master/json,null,available,@spark}',\n",
       " '20/03/18',\n",
       " '20:31:10',\n",
       " 'info',\n",
       " 'handler.contexthandler:',\n",
       " 'started',\n",
       " 'o.s.j.s.servletcontexthandler@3d2d7a89{/metrics/applications/json,null,available,@spark}',\n",
       " '20/03/18',\n",
       " '20:31:10',\n",
       " 'info',\n",
       " 'master.master:',\n",
       " 'i',\n",
       " 'have',\n",
       " 'been',\n",
       " 'elected',\n",
       " 'leader!',\n",
       " 'new',\n",
       " 'state:',\n",
       " 'alive']"
      ]
     },
     "execution_count": 19,
     "metadata": {},
     "output_type": "execute_result"
    }
   ],
   "source": [
    "min.collect()"
   ]
  },
  {
   "cell_type": "code",
   "execution_count": 7,
   "metadata": {},
   "outputs": [
    {
     "data": {
      "text/plain": [
       "257"
      ]
     },
     "execution_count": 7,
     "metadata": {},
     "output_type": "execute_result"
    }
   ],
   "source": [
    "#f) Remover as palavras de tamanho menor que 2\n",
    "filtro_tamanho = palavras.filter(lambda palavra:len(palavra)>2)\n",
    "filtro_tamanho.count()"
   ]
  },
  {
   "cell_type": "code",
   "execution_count": 8,
   "metadata": {},
   "outputs": [
    {
     "data": {
      "text/plain": [
       "('spark', 1)"
      ]
     },
     "execution_count": 8,
     "metadata": {},
     "output_type": "execute_result"
    }
   ],
   "source": [
    "#g) Atribuir o valor de 1 para cada palavra\n",
    "pmin = filtro_tamanho.map(lambda linha:linha.lower())\n",
    "pChaveValor = pmin.map(lambda palavra:(palavra,1))\n",
    "pChaveValor.first()"
   ]
  },
  {
   "cell_type": "code",
   "execution_count": 9,
   "metadata": {},
   "outputs": [
    {
     "data": {
      "text/plain": [
       "101"
      ]
     },
     "execution_count": 9,
     "metadata": {},
     "output_type": "execute_result"
    }
   ],
   "source": [
    "#h) Contar as palavras com o mesmo nome\n",
    "p_reduce = pChaveValor.reduceByKey(lambda key1,key2:key1+key2)\n",
    "p_reduce.count()"
   ]
  },
  {
   "cell_type": "code",
   "execution_count": 13,
   "metadata": {},
   "outputs": [
    {
     "data": {
      "text/plain": [
       "[(\"'masterui'\", 1),\n",
       " (\"'sparkmaster'\", 1),\n",
       " ('--host', 1),\n",
       " ('--port', 1),\n",
       " ('--webui-port', 1),\n",
       " ('-cp', 1),\n",
       " ('-xmx1g', 1),\n",
       " ('/etc/spark/:/opt/spark/jars/*:/etc/hadoop/:/etc/hadoop/*:/opt/hadoop/share/hadoop/common/lib/*:/opt/hadoop/share/hadoop/common/*:/opt/hadoop/share/hadoop/hdfs/*:/opt/hadoop/share/hadoop/hdfs/lib/*:/opt/hadoop/share/hadoop/yarn/lib/*:/opt/hadoop/share/hadoop/yarn/*:/opt/hadoop/share/hadoop/mapreduce/lib/*:/opt/hadoop/share/hadoop/mapreduce/*:/opt/hadoop/share/hadoop/tools/lib/*',\n",
       "  1),\n",
       " ('/opt/java/bin/java', 1),\n",
       " ('0.0.0.0,', 1),\n",
       " ('1087@jupyter-notebook', 1),\n",
       " ('2.4.1', 1),\n",
       " ('20/03/18', 28),\n",
       " ('20:31:09', 4),\n",
       " ('20:31:10', 24),\n",
       " ('7077', 1),\n",
       " ('7077.', 1),\n",
       " ('8080', 1),\n",
       " ('8080.', 1),\n",
       " ('========================================', 1)]"
      ]
     },
     "execution_count": 13,
     "metadata": {},
     "output_type": "execute_result"
    }
   ],
   "source": [
    "#i) Visualizar em ordem alfabética\n",
    "p_ordena = p_reduce.sortBy(lambda palavra:palavra[0],True)\n",
    "p_ordena.take(20)"
   ]
  },
  {
   "cell_type": "code",
   "execution_count": 14,
   "metadata": {},
   "outputs": [],
   "source": [
    "#j) Visualizar em ordem decrescente a quantidade de palavras\n",
    "p_ordena = p_reduce.sortBy(lambda palavra:palavra[1],False)"
   ]
  },
  {
   "cell_type": "code",
   "execution_count": 15,
   "metadata": {},
   "outputs": [
    {
     "data": {
      "text/plain": [
       "[('20/03/18', 28),\n",
       " ('info', 28),\n",
       " ('20:31:10', 24),\n",
       " ('started', 15),\n",
       " ('handler.contexthandler:', 9),\n",
       " ('with', 5),\n",
       " ('spark.securitymanager:', 5),\n",
       " ('acls', 5),\n",
       " ('20:31:09', 4),\n",
       " ('master.master:', 4)]"
      ]
     },
     "execution_count": 15,
     "metadata": {},
     "output_type": "execute_result"
    }
   ],
   "source": [
    "p_ordena.take(10)"
   ]
  },
  {
   "cell_type": "code",
   "execution_count": 17,
   "metadata": {},
   "outputs": [
    {
     "data": {
      "text/plain": [
       "[('20/03/18', 28),\n",
       " ('info', 28),\n",
       " ('20:31:10', 24),\n",
       " ('started', 15),\n",
       " ('handler.contexthandler:', 9),\n",
       " ('with', 5),\n",
       " ('spark.securitymanager:', 5),\n",
       " ('acls', 5),\n",
       " ('20:31:09', 4),\n",
       " ('master.master:', 4),\n",
       " ('groups', 4),\n",
       " ('permissions:', 4),\n",
       " ('changing', 4),\n",
       " ('view', 4),\n",
       " ('to:', 4),\n",
       " ('modify', 4),\n",
       " ('registered', 3),\n",
       " ('spark', 3),\n",
       " ('util.signalutils:', 3),\n",
       " ('signal', 3),\n",
       " ('handler', 3),\n",
       " ('for', 3),\n",
       " ('root', 2),\n",
       " ('disabled;', 2),\n",
       " ('set(root);', 2),\n",
       " ('successfully', 2),\n",
       " ('service', 2),\n",
       " ('server.server:', 2),\n",
       " ('users', 2),\n",
       " ('util.utils:', 2),\n",
       " ('port', 2)]"
      ]
     },
     "execution_count": 17,
     "metadata": {},
     "output_type": "execute_result"
    }
   ],
   "source": [
    "#k) Remover as palavras, com a quantidade de palavras > 1\n",
    "filtro_tamanho = p_ordena.filter(lambda palavra: palavra[1]>1)\n",
    "filtro_tamanho.collect()\n"
   ]
  },
  {
   "cell_type": "code",
   "execution_count": 19,
   "metadata": {},
   "outputs": [],
   "source": [
    "#l) Salvar o RDD no diretorio do HDFS /user/<seu-nome>/logs_count_word\n",
    "filtro_tamanho.getNumPartitions\n",
    "p_ordena.saveAsTextFile(\"/user/everaldo/logs_count_word_v2\")\n"
   ]
  },
  {
   "cell_type": "code",
   "execution_count": 20,
   "metadata": {},
   "outputs": [
    {
     "name": "stdout",
     "output_type": "stream",
     "text": [
      "Found 3 items\r\n",
      "-rw-r--r--   2 root supergroup          0 2022-10-27 12:53 /user/everaldo/logs_count_word_v2/_SUCCESS\r\n",
      "-rw-r--r--   2 root supergroup        517 2022-10-27 12:53 /user/everaldo/logs_count_word_v2/part-00000\r\n",
      "-rw-r--r--   2 root supergroup       2210 2022-10-27 12:53 /user/everaldo/logs_count_word_v2/part-00001\r\n"
     ]
    }
   ],
   "source": [
    "!hdfs dfs -ls /user/everaldo/logs_count_word_v2"
   ]
  },
  {
   "cell_type": "code",
   "execution_count": null,
   "metadata": {},
   "outputs": [],
   "source": []
  }
 ],
 "metadata": {
  "kernelspec": {
   "display_name": "PySpark",
   "language": "python",
   "name": "pyspark"
  },
  "language_info": {
   "codemirror_mode": {
    "name": "ipython",
    "version": 3
   },
   "file_extension": ".py",
   "mimetype": "text/x-python",
   "name": "python",
   "nbconvert_exporter": "python",
   "pygments_lexer": "ipython3",
   "version": "3.6.10"
  }
 },
 "nbformat": 4,
 "nbformat_minor": 2
}
